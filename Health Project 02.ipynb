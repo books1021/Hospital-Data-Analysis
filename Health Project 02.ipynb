{
 "cells": [
  {
   "cell_type": "code",
   "execution_count": 3,
   "id": "a042f478-5e84-4a49-bd9f-323d9189b82a",
   "metadata": {},
   "outputs": [],
   "source": [
    "import pandas as pd"
   ]
  },
  {
   "cell_type": "code",
   "execution_count": 4,
   "id": "5e0f08cd-b547-49fe-8d3a-663bab144a87",
   "metadata": {},
   "outputs": [],
   "source": [
    "health_data= pd.read_csv('Health Dataset Python\\\\Health_dataset.csv')"
   ]
  },
  {
   "cell_type": "code",
   "execution_count": 19,
   "id": "4d5e174d-3efa-4f53-b61e-0bc54ec1dead",
   "metadata": {
    "scrolled": true
   },
   "outputs": [
    {
     "data": {
      "text/html": [
       "<div>\n",
       "<style scoped>\n",
       "    .dataframe tbody tr th:only-of-type {\n",
       "        vertical-align: middle;\n",
       "    }\n",
       "\n",
       "    .dataframe tbody tr th {\n",
       "        vertical-align: top;\n",
       "    }\n",
       "\n",
       "    .dataframe thead th {\n",
       "        text-align: right;\n",
       "    }\n",
       "</style>\n",
       "<table border=\"1\" class=\"dataframe\">\n",
       "  <thead>\n",
       "    <tr style=\"text-align: right;\">\n",
       "      <th></th>\n",
       "      <th>Patient ID</th>\n",
       "      <th>Gender</th>\n",
       "      <th>Disease</th>\n",
       "      <th>Treatment</th>\n",
       "      <th>Hospital</th>\n",
       "      <th>Admission Date</th>\n",
       "      <th>Discharge Date</th>\n",
       "      <th>Treatment Status</th>\n",
       "      <th>Cause of Death</th>\n",
       "      <th>Date of Birth</th>\n",
       "    </tr>\n",
       "  </thead>\n",
       "  <tbody>\n",
       "    <tr>\n",
       "      <th>0</th>\n",
       "      <td>PAT-00001</td>\n",
       "      <td>Male</td>\n",
       "      <td>Tuberculosis</td>\n",
       "      <td>Dialysis</td>\n",
       "      <td>City General Hospital</td>\n",
       "      <td>2022-12-19</td>\n",
       "      <td>2023-01-16</td>\n",
       "      <td>Recovered</td>\n",
       "      <td>NaN</td>\n",
       "      <td>1973-06-05</td>\n",
       "    </tr>\n",
       "    <tr>\n",
       "      <th>1</th>\n",
       "      <td>PAT-00002</td>\n",
       "      <td>Female</td>\n",
       "      <td>Malaria</td>\n",
       "      <td>Dialysis</td>\n",
       "      <td>City General Hospital</td>\n",
       "      <td>2023-03-29</td>\n",
       "      <td>2023-04-21</td>\n",
       "      <td>Recovered</td>\n",
       "      <td>NaN</td>\n",
       "      <td>1998-11-21</td>\n",
       "    </tr>\n",
       "    <tr>\n",
       "      <th>2</th>\n",
       "      <td>PAT-00003</td>\n",
       "      <td>Female</td>\n",
       "      <td>Malaria</td>\n",
       "      <td>Surgery</td>\n",
       "      <td>City General Hospital</td>\n",
       "      <td>2022-09-16</td>\n",
       "      <td>2022-10-15</td>\n",
       "      <td>Recovered</td>\n",
       "      <td>NaN</td>\n",
       "      <td>1942-02-14</td>\n",
       "    </tr>\n",
       "    <tr>\n",
       "      <th>3</th>\n",
       "      <td>PAT-00004</td>\n",
       "      <td>Male</td>\n",
       "      <td>Asthma</td>\n",
       "      <td>Dialysis</td>\n",
       "      <td>City General Hospital</td>\n",
       "      <td>2022-02-07</td>\n",
       "      <td>2022-02-11</td>\n",
       "      <td>Recovered</td>\n",
       "      <td>NaN</td>\n",
       "      <td>1943-01-17</td>\n",
       "    </tr>\n",
       "    <tr>\n",
       "      <th>4</th>\n",
       "      <td>PAT-00005</td>\n",
       "      <td>Female</td>\n",
       "      <td>Diabetes</td>\n",
       "      <td>Physical Therapy</td>\n",
       "      <td>City General Hospital</td>\n",
       "      <td>2022-10-25</td>\n",
       "      <td>2022-10-30</td>\n",
       "      <td>Recovered</td>\n",
       "      <td>NaN</td>\n",
       "      <td>1979-07-28</td>\n",
       "    </tr>\n",
       "    <tr>\n",
       "      <th>...</th>\n",
       "      <td>...</td>\n",
       "      <td>...</td>\n",
       "      <td>...</td>\n",
       "      <td>...</td>\n",
       "      <td>...</td>\n",
       "      <td>...</td>\n",
       "      <td>...</td>\n",
       "      <td>...</td>\n",
       "      <td>...</td>\n",
       "      <td>...</td>\n",
       "    </tr>\n",
       "    <tr>\n",
       "      <th>7995</th>\n",
       "      <td>PAT-07996</td>\n",
       "      <td>Male</td>\n",
       "      <td>HIV/AIDS</td>\n",
       "      <td>Radiotherapy</td>\n",
       "      <td>Sunrise Clinic</td>\n",
       "      <td>2022-06-28</td>\n",
       "      <td>2022-07-05</td>\n",
       "      <td>Recovered</td>\n",
       "      <td>NaN</td>\n",
       "      <td>1925-11-10</td>\n",
       "    </tr>\n",
       "    <tr>\n",
       "      <th>7996</th>\n",
       "      <td>PAT-07997</td>\n",
       "      <td>Female</td>\n",
       "      <td>Heart Disease</td>\n",
       "      <td>Chemotherapy</td>\n",
       "      <td>Sunrise Clinic</td>\n",
       "      <td>2022-01-28</td>\n",
       "      <td>2022-02-25</td>\n",
       "      <td>Recovered</td>\n",
       "      <td>NaN</td>\n",
       "      <td>2004-06-15</td>\n",
       "    </tr>\n",
       "    <tr>\n",
       "      <th>7997</th>\n",
       "      <td>PAT-07998</td>\n",
       "      <td>Male</td>\n",
       "      <td>Asthma</td>\n",
       "      <td>Dialysis</td>\n",
       "      <td>Sunrise Clinic</td>\n",
       "      <td>2022-09-14</td>\n",
       "      <td>2022-09-22</td>\n",
       "      <td>Recovered</td>\n",
       "      <td>NaN</td>\n",
       "      <td>1993-10-03</td>\n",
       "    </tr>\n",
       "    <tr>\n",
       "      <th>7998</th>\n",
       "      <td>PAT-07999</td>\n",
       "      <td>Male</td>\n",
       "      <td>Typhoid</td>\n",
       "      <td>Ventilation Support</td>\n",
       "      <td>Sunrise Clinic</td>\n",
       "      <td>2023-08-04</td>\n",
       "      <td>2023-08-25</td>\n",
       "      <td>Recovered</td>\n",
       "      <td>NaN</td>\n",
       "      <td>1999-02-01</td>\n",
       "    </tr>\n",
       "    <tr>\n",
       "      <th>7999</th>\n",
       "      <td>PAT-08000</td>\n",
       "      <td>Male</td>\n",
       "      <td>Tuberculosis</td>\n",
       "      <td>Medication</td>\n",
       "      <td>Sunrise Clinic</td>\n",
       "      <td>2023-09-09</td>\n",
       "      <td>2023-10-06</td>\n",
       "      <td>Recovered</td>\n",
       "      <td>NaN</td>\n",
       "      <td>1932-03-17</td>\n",
       "    </tr>\n",
       "  </tbody>\n",
       "</table>\n",
       "<p>8000 rows × 10 columns</p>\n",
       "</div>"
      ],
      "text/plain": [
       "     Patient ID  Gender        Disease            Treatment  \\\n",
       "0     PAT-00001    Male   Tuberculosis             Dialysis   \n",
       "1     PAT-00002  Female        Malaria             Dialysis   \n",
       "2     PAT-00003  Female        Malaria              Surgery   \n",
       "3     PAT-00004    Male         Asthma             Dialysis   \n",
       "4     PAT-00005  Female       Diabetes     Physical Therapy   \n",
       "...         ...     ...            ...                  ...   \n",
       "7995  PAT-07996    Male       HIV/AIDS         Radiotherapy   \n",
       "7996  PAT-07997  Female  Heart Disease         Chemotherapy   \n",
       "7997  PAT-07998    Male         Asthma             Dialysis   \n",
       "7998  PAT-07999    Male        Typhoid  Ventilation Support   \n",
       "7999  PAT-08000    Male   Tuberculosis           Medication   \n",
       "\n",
       "                   Hospital Admission Date Discharge Date Treatment Status  \\\n",
       "0     City General Hospital     2022-12-19     2023-01-16        Recovered   \n",
       "1     City General Hospital     2023-03-29     2023-04-21        Recovered   \n",
       "2     City General Hospital     2022-09-16     2022-10-15        Recovered   \n",
       "3     City General Hospital     2022-02-07     2022-02-11        Recovered   \n",
       "4     City General Hospital     2022-10-25     2022-10-30        Recovered   \n",
       "...                     ...            ...            ...              ...   \n",
       "7995         Sunrise Clinic     2022-06-28     2022-07-05        Recovered   \n",
       "7996         Sunrise Clinic     2022-01-28     2022-02-25        Recovered   \n",
       "7997         Sunrise Clinic     2022-09-14     2022-09-22        Recovered   \n",
       "7998         Sunrise Clinic     2023-08-04     2023-08-25        Recovered   \n",
       "7999         Sunrise Clinic     2023-09-09     2023-10-06        Recovered   \n",
       "\n",
       "     Cause of Death Date of Birth  \n",
       "0               NaN    1973-06-05  \n",
       "1               NaN    1998-11-21  \n",
       "2               NaN    1942-02-14  \n",
       "3               NaN    1943-01-17  \n",
       "4               NaN    1979-07-28  \n",
       "...             ...           ...  \n",
       "7995            NaN    1925-11-10  \n",
       "7996            NaN    2004-06-15  \n",
       "7997            NaN    1993-10-03  \n",
       "7998            NaN    1999-02-01  \n",
       "7999            NaN    1932-03-17  \n",
       "\n",
       "[8000 rows x 10 columns]"
      ]
     },
     "execution_count": 19,
     "metadata": {},
     "output_type": "execute_result"
    }
   ],
   "source": [
    "#data to datetime format\n",
    "health_data[['Discharge Date','Date of Birth']]=health_data[['Discharge Date','Date of Birth']].apply(pd.to_datetime)"
   ]
  },
  {
   "cell_type": "markdown",
   "id": "5a3ed2a1-864b-4b57-a6e7-29d345603644",
   "metadata": {},
   "source": [
    "double check datetime format"
   ]
  },
  {
   "cell_type": "code",
   "execution_count": 17,
   "id": "2f8fcf38-1e4c-43d9-82a7-c9f7e845552d",
   "metadata": {
    "scrolled": true
   },
   "outputs": [
    {
     "data": {
      "text/plain": [
       "0      2023-01-16\n",
       "1      2023-04-21\n",
       "2      2022-10-15\n",
       "3      2022-02-11\n",
       "4      2022-10-30\n",
       "          ...    \n",
       "7995   2022-07-05\n",
       "7996   2022-02-25\n",
       "7997   2022-09-22\n",
       "7998   2023-08-25\n",
       "7999   2023-10-06\n",
       "Name: Discharge Date, Length: 8000, dtype: datetime64[ns]"
      ]
     },
     "execution_count": 17,
     "metadata": {},
     "output_type": "execute_result"
    }
   ],
   "source": [
    "health_data['Discharge Date']"
   ]
  },
  {
   "cell_type": "code",
   "execution_count": 18,
   "id": "e1ef94c5-1e51-45c6-aa58-6c0a8cd63815",
   "metadata": {},
   "outputs": [
    {
     "data": {
      "text/plain": [
       "0      1973-06-05\n",
       "1      1998-11-21\n",
       "2      1942-02-14\n",
       "3      1943-01-17\n",
       "4      1979-07-28\n",
       "          ...    \n",
       "7995   1925-11-10\n",
       "7996   2004-06-15\n",
       "7997   1993-10-03\n",
       "7998   1999-02-01\n",
       "7999   1932-03-17\n",
       "Name: Date of Birth, Length: 8000, dtype: datetime64[ns]"
      ]
     },
     "execution_count": 18,
     "metadata": {},
     "output_type": "execute_result"
    }
   ],
   "source": [
    "health_data['Date of Birth']"
   ]
  },
  {
   "cell_type": "code",
   "execution_count": 56,
   "id": "7078d55b-a110-4584-bb51-b6fb3430896d",
   "metadata": {},
   "outputs": [],
   "source": [
    "#calculate the age of each patient\n",
    "health_data['Age']=round(((health_data['Discharge Date']-health_data['Date of Birth']).dt.days/365.25))"
   ]
  },
  {
   "cell_type": "code",
   "execution_count": 60,
   "id": "9f06d1f7-7516-4d84-a858-bdaf91907f35",
   "metadata": {
    "scrolled": true
   },
   "outputs": [
    {
     "data": {
      "text/plain": [
       "<Axes: ylabel='Frequency'>"
      ]
     },
     "execution_count": 60,
     "metadata": {},
     "output_type": "execute_result"
    },
    {
     "data": {
      "image/png": "[encoded data removed]",
      "text/plain": [
       "<Figure size 640x480 with 1 Axes>"
      ]
     },
     "metadata": {},
     "output_type": "display_data"
    }
   ],
   "source": [
    "ax=health_data['Age'].plot(kind='hist', bins=5)\n"
   ]
  },
  {
   "cell_type": "markdown",
   "id": "5740e2a3-0369-460b-a25e-8d7a77e704af",
   "metadata": {},
   "source": [
    "Disease count"
   ]
  },
  {
   "cell_type": "code",
   "execution_count": 75,
   "id": "d099b1b5-0ded-499b-9ecd-decff8ba2f85",
   "metadata": {},
   "outputs": [
    {
     "data": {
      "image/png": "[encoded data removed]",
      "text/plain": [
       "<Figure size 640x480 with 1 Axes>"
      ]
     },
     "metadata": {},
     "output_type": "display_data"
    }
   ],
   "source": [
    "# count the disease cases, plot disease count\n",
    "disease_count=health_data[['Disease']].value_counts()\n",
    "ax=disease_count.plot(kind='bar')"
   ]
  },
  {
   "cell_type": "code",
   "execution_count": 85,
   "id": "a6666e25-41de-459b-85ca-00dcaeee6d79",
   "metadata": {},
   "outputs": [
    {
     "data": {
      "text/plain": [
       "Disease       \n",
       "Malaria           0.149125\n",
       "Asthma            0.120750\n",
       "Tuberculosis      0.108000\n",
       "Diabetes          0.086750\n",
       "Cancer            0.086375\n",
       "Typhoid           0.085000\n",
       "Heart Disease     0.070875\n",
       "Stroke            0.061625\n",
       "HIV/AIDS          0.061000\n",
       "Kidney Failure    0.059375\n",
       "Pneumonia         0.030750\n",
       "Liver Disease     0.030500\n",
       "Hypertension      0.021625\n",
       "COVID-19          0.019625\n",
       "Dengue            0.008625\n",
       "Name: count, dtype: float64"
      ]
     },
     "execution_count": 85,
     "metadata": {},
     "output_type": "execute_result"
    }
   ],
   "source": [
    "# disease distribution by decimial\n",
    "disease_percentage=disease_count/disease_count.sum()\n",
    "disease_percentage"
   ]
  },
  {
   "cell_type": "code",
   "execution_count": 76,
   "id": "d3a6962e-9e72-408c-a21e-1fc6b59aaf51",
   "metadata": {},
   "outputs": [],
   "source": [
    "disease_count_top_3=disease_count.nlargest(3)"
   ]
  },
  {
   "cell_type": "code",
   "execution_count": 77,
   "id": "9f2b4f31-f0a9-45a3-aae6-49479b02ade5",
   "metadata": {
    "scrolled": true
   },
   "outputs": [
    {
     "data": {
      "text/plain": [
       "Disease     \n",
       "Malaria         1193\n",
       "Asthma           966\n",
       "Tuberculosis     864\n",
       "Name: count, dtype: int64"
      ]
     },
     "execution_count": 77,
     "metadata": {},
     "output_type": "execute_result"
    }
   ],
   "source": [
    "# top3 most common diseases\n",
    "disease_count_top_3"
   ]
  },
  {
   "cell_type": "code",
   "execution_count": 81,
   "id": "e4587082-c2f8-4b30-b328-c5dc53dc872c",
   "metadata": {},
   "outputs": [
    {
     "name": "stdout",
     "output_type": "stream",
     "text": [
      "total of most common 3 disease is : 3023\n"
     ]
    }
   ],
   "source": [
    "# total cases for top n diseases\n",
    "\n",
    "# define n \n",
    "_=3 \n",
    "\n",
    "disease_count_top_n=disease_count.nlargest(_)\n",
    "top_n_disease_total=disease_count_top_n.sum()\n",
    "print(f\"total of most common {_} disease is :\", top_n_disease_total)"
   ]
  },
  {
   "cell_type": "code",
   "execution_count": 78,
   "id": "73d0cffd-16f5-4f2f-8d3e-acde159916dc",
   "metadata": {},
   "outputs": [
    {
     "data": {
      "text/plain": [
       "8000"
      ]
     },
     "execution_count": 78,
     "metadata": {},
     "output_type": "execute_result"
    }
   ],
   "source": [
    "disease_count.sum()"
   ]
  },
  {
   "cell_type": "code",
   "execution_count": 83,
   "id": "35ab53f0-473b-4554-bb55-58e95d0d34b6",
   "metadata": {},
   "outputs": [
    {
     "data": {
      "text/plain": [
       "Disease     \n",
       "Dengue           69\n",
       "COVID-19        157\n",
       "Hypertension    173\n",
       "Name: count, dtype: int64"
      ]
     },
     "execution_count": 83,
     "metadata": {},
     "output_type": "execute_result"
    }
   ],
   "source": [
    "# top3 least common diseases\n",
    "disease_count_bottom_3=disease_count.nsmallest(3)\n",
    "disease_count_bottom_3"
   ]
  },
  {
   "cell_type": "code",
   "execution_count": 84,
   "id": "6630f0e5-e67b-4503-b9bf-f6e74f0a83de",
   "metadata": {
    "scrolled": true
   },
   "outputs": [
    {
     "name": "stdout",
     "output_type": "stream",
     "text": [
      "total of least common 3 disease is : 399\n"
     ]
    }
   ],
   "source": [
    "# total cases for bottom n diseases\n",
    "\n",
    "# define n \n",
    "_=3 \n",
    "\n",
    "disease_count_bottom_n=disease_count.nsmallest(_)\n",
    "bottom_n_disease_total=disease_count_bottom_n.sum()\n",
    "print(f\"total of least common {_} disease is :\", bottom_n_disease_total)"
   ]
  },
  {
   "cell_type": "markdown",
   "id": "dd1e9e8e-ce87-43ed-8d6b-c93a0ce5aaeb",
   "metadata": {},
   "source": [
    "disease cases by gender"
   ]
  },
  {
   "cell_type": "code",
   "execution_count": null,
   "id": "ecaf2438-0b5f-40e6-9ff6-bf09ddc92c15",
   "metadata": {},
   "outputs": [],
   "source": [
    "# return pandas.Series\n",
    "health_data[['Gender','Disease']].groupby('Disease').value_counts()"
   ]
  },
  {
   "cell_type": "code",
   "execution_count": 98,
   "id": "a6e617a7-b535-431b-bf82-c7327ead38fa",
   "metadata": {},
   "outputs": [
    {
     "data": {
      "text/html": [
       "<div>\n",
       "<style scoped>\n",
       "    .dataframe tbody tr th:only-of-type {\n",
       "        vertical-align: middle;\n",
       "    }\n",
       "\n",
       "    .dataframe tbody tr th {\n",
       "        vertical-align: top;\n",
       "    }\n",
       "\n",
       "    .dataframe thead th {\n",
       "        text-align: right;\n",
       "    }\n",
       "</style>\n",
       "<table border=\"1\" class=\"dataframe\">\n",
       "  <thead>\n",
       "    <tr style=\"text-align: right;\">\n",
       "      <th>Gender</th>\n",
       "      <th>Female</th>\n",
       "      <th>Male</th>\n",
       "    </tr>\n",
       "    <tr>\n",
       "      <th>Disease</th>\n",
       "      <th></th>\n",
       "      <th></th>\n",
       "    </tr>\n",
       "  </thead>\n",
       "  <tbody>\n",
       "    <tr>\n",
       "      <th>Asthma</th>\n",
       "      <td>320</td>\n",
       "      <td>646</td>\n",
       "    </tr>\n",
       "    <tr>\n",
       "      <th>COVID-19</th>\n",
       "      <td>53</td>\n",
       "      <td>104</td>\n",
       "    </tr>\n",
       "    <tr>\n",
       "      <th>Cancer</th>\n",
       "      <td>239</td>\n",
       "      <td>452</td>\n",
       "    </tr>\n",
       "    <tr>\n",
       "      <th>Dengue</th>\n",
       "      <td>27</td>\n",
       "      <td>42</td>\n",
       "    </tr>\n",
       "    <tr>\n",
       "      <th>Diabetes</th>\n",
       "      <td>256</td>\n",
       "      <td>438</td>\n",
       "    </tr>\n",
       "    <tr>\n",
       "      <th>HIV/AIDS</th>\n",
       "      <td>155</td>\n",
       "      <td>333</td>\n",
       "    </tr>\n",
       "    <tr>\n",
       "      <th>Heart Disease</th>\n",
       "      <td>206</td>\n",
       "      <td>361</td>\n",
       "    </tr>\n",
       "    <tr>\n",
       "      <th>Hypertension</th>\n",
       "      <td>65</td>\n",
       "      <td>108</td>\n",
       "    </tr>\n",
       "    <tr>\n",
       "      <th>Kidney Failure</th>\n",
       "      <td>182</td>\n",
       "      <td>293</td>\n",
       "    </tr>\n",
       "    <tr>\n",
       "      <th>Liver Disease</th>\n",
       "      <td>73</td>\n",
       "      <td>171</td>\n",
       "    </tr>\n",
       "    <tr>\n",
       "      <th>Malaria</th>\n",
       "      <td>407</td>\n",
       "      <td>786</td>\n",
       "    </tr>\n",
       "    <tr>\n",
       "      <th>Pneumonia</th>\n",
       "      <td>93</td>\n",
       "      <td>153</td>\n",
       "    </tr>\n",
       "    <tr>\n",
       "      <th>Stroke</th>\n",
       "      <td>177</td>\n",
       "      <td>316</td>\n",
       "    </tr>\n",
       "    <tr>\n",
       "      <th>Tuberculosis</th>\n",
       "      <td>302</td>\n",
       "      <td>562</td>\n",
       "    </tr>\n",
       "    <tr>\n",
       "      <th>Typhoid</th>\n",
       "      <td>239</td>\n",
       "      <td>441</td>\n",
       "    </tr>\n",
       "  </tbody>\n",
       "</table>\n",
       "</div>"
      ],
      "text/plain": [
       "Gender          Female  Male\n",
       "Disease                     \n",
       "Asthma             320   646\n",
       "COVID-19            53   104\n",
       "Cancer             239   452\n",
       "Dengue              27    42\n",
       "Diabetes           256   438\n",
       "HIV/AIDS           155   333\n",
       "Heart Disease      206   361\n",
       "Hypertension        65   108\n",
       "Kidney Failure     182   293\n",
       "Liver Disease       73   171\n",
       "Malaria            407   786\n",
       "Pneumonia           93   153\n",
       "Stroke             177   316\n",
       "Tuberculosis       302   562\n",
       "Typhoid            239   441"
      ]
     },
     "execution_count": 98,
     "metadata": {},
     "output_type": "execute_result"
    }
   ],
   "source": [
    "# return dataframe obj\n",
    "disease_count_by_gender=health_data[['Gender','Disease']].groupby('Disease').value_counts().unstack()\n",
    "disease_count_by_gender"
   ]
  },
  {
   "cell_type": "code",
   "execution_count": null,
   "id": "dcf3d9f3-4f92-4366-8c69-cb62a469f183",
   "metadata": {},
   "outputs": [],
   "source": []
  }
 ],
 "metadata": {
  "kernelspec": {
   "display_name": "Python 3 (ipykernel)",
   "language": "python",
   "name": "python3"
  },
  "language_info": {
   "codemirror_mode": {
    "name": "ipython",
    "version": 3
   },
   "file_extension": ".py",
   "mimetype": "text/x-python",
   "name": "python",
   "nbconvert_exporter": "python",
   "pygments_lexer": "ipython3",
   "version": "3.12.8"
  }
 },
 "nbformat": 4,
 "nbformat_minor": 5
}
