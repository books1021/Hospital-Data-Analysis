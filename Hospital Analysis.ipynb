{
 "cells": [
  {
   "cell_type": "code",
   "execution_count": 58,
   "id": "883bfe48-0552-4ab5-babd-110f7fa736f4",
   "metadata": {},
   "outputs": [],
   "source": [
    "import os\n",
    "import pandas as pd\n",
    "import matplotlib.pyplot as plt"
   ]
  },
  {
   "cell_type": "code",
   "execution_count": 6,
   "id": "149aba82-7315-4d7f-8079-bbae2666f415",
   "metadata": {},
   "outputs": [],
   "source": [
    "notebook_dir=os.getcwd()"
   ]
  },
  {
   "cell_type": "code",
   "execution_count": 8,
   "id": "6340d9a3-6f6c-4328-a859-344a4b1f71a9",
   "metadata": {},
   "outputs": [
    {
     "data": {
      "text/plain": [
       "'G:\\\\Backup\\\\Documents\\\\Data Science study\\\\Hospital Data Analysis\\\\Health Dataset Python\\\\Health_dataset.csv'"
      ]
     },
     "execution_count": 8,
     "metadata": {},
     "output_type": "execute_result"
    }
   ],
   "source": [
    "os.path.join(notebook_dir,'Health Dataset Python','Health_dataset.csv')"
   ]
  },
  {
   "cell_type": "code",
   "execution_count": 16,
   "id": "b11342c9-645e-41e2-af84-51bb365b2bca",
   "metadata": {},
   "outputs": [],
   "source": [
    "Health_dataset=pd.read_csv(os.path.join(notebook_dir,'Health Dataset Python','Health_dataset.csv'))"
   ]
  },
  {
   "cell_type": "code",
   "execution_count": 17,
   "id": "847792c1-4144-4d2d-a8c0-f2abb476767f",
   "metadata": {},
   "outputs": [
    {
     "data": {
      "text/html": [
       "<div>\n",
       "<style scoped>\n",
       "    .dataframe tbody tr th:only-of-type {\n",
       "        vertical-align: middle;\n",
       "    }\n",
       "\n",
       "    .dataframe tbody tr th {\n",
       "        vertical-align: top;\n",
       "    }\n",
       "\n",
       "    .dataframe thead th {\n",
       "        text-align: right;\n",
       "    }\n",
       "</style>\n",
       "<table border=\"1\" class=\"dataframe\">\n",
       "  <thead>\n",
       "    <tr style=\"text-align: right;\">\n",
       "      <th></th>\n",
       "      <th>Patient ID</th>\n",
       "      <th>Gender</th>\n",
       "      <th>Disease</th>\n",
       "      <th>Treatment</th>\n",
       "      <th>Hospital</th>\n",
       "      <th>Admission Date</th>\n",
       "      <th>Discharge Date</th>\n",
       "      <th>Treatment Status</th>\n",
       "      <th>Cause of Death</th>\n",
       "      <th>Date of Birth</th>\n",
       "    </tr>\n",
       "  </thead>\n",
       "  <tbody>\n",
       "    <tr>\n",
       "      <th>0</th>\n",
       "      <td>PAT-00001</td>\n",
       "      <td>Male</td>\n",
       "      <td>Tuberculosis</td>\n",
       "      <td>Dialysis</td>\n",
       "      <td>City General Hospital</td>\n",
       "      <td>2022-12-19</td>\n",
       "      <td>2023-01-16</td>\n",
       "      <td>Recovered</td>\n",
       "      <td>NaN</td>\n",
       "      <td>1973-06-05</td>\n",
       "    </tr>\n",
       "    <tr>\n",
       "      <th>1</th>\n",
       "      <td>PAT-00002</td>\n",
       "      <td>Female</td>\n",
       "      <td>Malaria</td>\n",
       "      <td>Dialysis</td>\n",
       "      <td>City General Hospital</td>\n",
       "      <td>2023-03-29</td>\n",
       "      <td>2023-04-21</td>\n",
       "      <td>Recovered</td>\n",
       "      <td>NaN</td>\n",
       "      <td>1998-11-21</td>\n",
       "    </tr>\n",
       "    <tr>\n",
       "      <th>2</th>\n",
       "      <td>PAT-00003</td>\n",
       "      <td>Female</td>\n",
       "      <td>Malaria</td>\n",
       "      <td>Surgery</td>\n",
       "      <td>City General Hospital</td>\n",
       "      <td>2022-09-16</td>\n",
       "      <td>2022-10-15</td>\n",
       "      <td>Recovered</td>\n",
       "      <td>NaN</td>\n",
       "      <td>1942-02-14</td>\n",
       "    </tr>\n",
       "    <tr>\n",
       "      <th>3</th>\n",
       "      <td>PAT-00004</td>\n",
       "      <td>Male</td>\n",
       "      <td>Asthma</td>\n",
       "      <td>Dialysis</td>\n",
       "      <td>City General Hospital</td>\n",
       "      <td>2022-02-07</td>\n",
       "      <td>2022-02-11</td>\n",
       "      <td>Recovered</td>\n",
       "      <td>NaN</td>\n",
       "      <td>1943-01-17</td>\n",
       "    </tr>\n",
       "    <tr>\n",
       "      <th>4</th>\n",
       "      <td>PAT-00005</td>\n",
       "      <td>Female</td>\n",
       "      <td>Diabetes</td>\n",
       "      <td>Physical Therapy</td>\n",
       "      <td>City General Hospital</td>\n",
       "      <td>2022-10-25</td>\n",
       "      <td>2022-10-30</td>\n",
       "      <td>Recovered</td>\n",
       "      <td>NaN</td>\n",
       "      <td>1979-07-28</td>\n",
       "    </tr>\n",
       "  </tbody>\n",
       "</table>\n",
       "</div>"
      ],
      "text/plain": [
       "  Patient ID  Gender       Disease         Treatment               Hospital  \\\n",
       "0  PAT-00001    Male  Tuberculosis          Dialysis  City General Hospital   \n",
       "1  PAT-00002  Female       Malaria          Dialysis  City General Hospital   \n",
       "2  PAT-00003  Female       Malaria           Surgery  City General Hospital   \n",
       "3  PAT-00004    Male        Asthma          Dialysis  City General Hospital   \n",
       "4  PAT-00005  Female      Diabetes  Physical Therapy  City General Hospital   \n",
       "\n",
       "  Admission Date Discharge Date Treatment Status Cause of Death Date of Birth  \n",
       "0     2022-12-19     2023-01-16        Recovered            NaN    1973-06-05  \n",
       "1     2023-03-29     2023-04-21        Recovered            NaN    1998-11-21  \n",
       "2     2022-09-16     2022-10-15        Recovered            NaN    1942-02-14  \n",
       "3     2022-02-07     2022-02-11        Recovered            NaN    1943-01-17  \n",
       "4     2022-10-25     2022-10-30        Recovered            NaN    1979-07-28  "
      ]
     },
     "execution_count": 17,
     "metadata": {},
     "output_type": "execute_result"
    }
   ],
   "source": [
    "# display first few row\n",
    "Health_dataset.head()"
   ]
  },
  {
   "cell_type": "code",
   "execution_count": 24,
   "id": "46954e33-d36e-4482-bc58-e2b2999715b9",
   "metadata": {},
   "outputs": [
    {
     "name": "stdout",
     "output_type": "stream",
     "text": [
      "Total patient 8000\n"
     ]
    }
   ],
   "source": [
    "#count the numbers of patients\n",
    "total_record=len(pd.unique(Health_dataset['Patient ID']))\n",
    "print(\"Total patient\", total_record)"
   ]
  },
  {
   "cell_type": "code",
   "execution_count": 33,
   "id": "d04247ab-6f43-41e3-a705-57894d28b5c8",
   "metadata": {},
   "outputs": [
    {
     "data": {
      "text/html": [
       "<div>\n",
       "<style scoped>\n",
       "    .dataframe tbody tr th:only-of-type {\n",
       "        vertical-align: middle;\n",
       "    }\n",
       "\n",
       "    .dataframe tbody tr th {\n",
       "        vertical-align: top;\n",
       "    }\n",
       "\n",
       "    .dataframe thead th {\n",
       "        text-align: right;\n",
       "    }\n",
       "</style>\n",
       "<table border=\"1\" class=\"dataframe\">\n",
       "  <thead>\n",
       "    <tr style=\"text-align: right;\">\n",
       "      <th></th>\n",
       "      <th>Patient ID</th>\n",
       "    </tr>\n",
       "    <tr>\n",
       "      <th>Gender</th>\n",
       "      <th></th>\n",
       "    </tr>\n",
       "  </thead>\n",
       "  <tbody>\n",
       "    <tr>\n",
       "      <th>Female</th>\n",
       "      <td>2794</td>\n",
       "    </tr>\n",
       "    <tr>\n",
       "      <th>Male</th>\n",
       "      <td>5206</td>\n",
       "    </tr>\n",
       "  </tbody>\n",
       "</table>\n",
       "</div>"
      ],
      "text/plain": [
       "        Patient ID\n",
       "Gender            \n",
       "Female        2794\n",
       "Male          5206"
      ]
     },
     "execution_count": 33,
     "metadata": {},
     "output_type": "execute_result"
    }
   ],
   "source": [
    "Health_dataset[['Patient ID','Gender']].groupby(['Gender']).count()"
   ]
  },
  {
   "cell_type": "code",
   "execution_count": 39,
   "id": "95c69d46-038b-4e84-b609-531e8b862a09",
   "metadata": {},
   "outputs": [],
   "source": [
    "gender_count=Health_dataset['Gender'].value_counts()"
   ]
  },
  {
   "cell_type": "code",
   "execution_count": 64,
   "id": "1692a1b9-7ccb-4487-bf26-90e8f1dbb495",
   "metadata": {},
   "outputs": [
    {
     "name": "stdout",
     "output_type": "stream",
     "text": [
      "Gender Distrubution\n",
      "Gender\n",
      "Male      5206\n",
      "Female    2794\n",
      "Name: count, dtype: int64\n"
     ]
    }
   ],
   "source": [
    "print(\"Gender Distrubution\")\n",
    "print(gender_count)"
   ]
  },
  {
   "cell_type": "code",
   "execution_count": 84,
   "id": "75860372-14bf-46d1-ae7a-0287b0a6215c",
   "metadata": {},
   "outputs": [
    {
     "data": {
      "image/png": "[encoded data removed]",
      "text/plain": [
       "<Figure size 640x480 with 1 Axes>"
      ]
     },
     "metadata": {},
     "output_type": "display_data"
    }
   ],
   "source": [
    "gender_count.plot(kind='bar', color=['blue', 'red'])\n",
    "plt.title('total patient by gender')\n",
    "plt.show()"
   ]
  },
  {
   "cell_type": "code",
   "execution_count": null,
   "id": "40b3d053-451e-4b9c-b239-e5c6bc166931",
   "metadata": {},
   "outputs": [],
   "source": []
  }
 ],
 "metadata": {
  "kernelspec": {
   "display_name": "Python 3 (ipykernel)",
   "language": "python",
   "name": "python3"
  },
  "language_info": {
   "codemirror_mode": {
    "name": "ipython",
    "version": 3
   },
   "file_extension": ".py",
   "mimetype": "text/x-python",
   "name": "python",
   "nbconvert_exporter": "python",
   "pygments_lexer": "ipython3",
   "version": "3.12.8"
  }
 },
 "nbformat": 4,
 "nbformat_minor": 5
}
